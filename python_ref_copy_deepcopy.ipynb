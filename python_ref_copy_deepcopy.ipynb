{
 "cells": [
  {
   "cell_type": "markdown",
   "metadata": {},
   "source": [
    "### python的引用和复制\n",
    "\n",
    "在程序进行赋值和复制的时候，对于对象的不同产生的效果也是不同的，先来看下对于可变对象的一些情况："
   ]
  },
  {
   "cell_type": "code",
   "execution_count": 1,
   "metadata": {
    "ExecuteTime": {
     "end_time": "2018-05-24T03:12:18.880432Z",
     "start_time": "2018-05-24T03:12:18.847661Z"
    }
   },
   "outputs": [
    {
     "name": "stdout",
     "output_type": "stream",
     "text": [
      "True\n",
      "[1, -100, [3, [1, 2, 3]]]\n",
      "False\n",
      "[1, -100, [3, [1, 2, 3]], 100]\n",
      "[1, -100, [3, [1, 2, 3]]]\n",
      "[1, -100, [-100, [1, 2, 3]]]\n",
      "False\n",
      "[1, -100, [-100, [1, 2, 3]]]\n",
      "[1, -100, [-100, [1, 2, 3]]]\n",
      "[1, -100, [300, [1, 2, 3]]]\n",
      "False\n",
      "[1, -100, [300, [1, 2, 3]]]\n"
     ]
    }
   ],
   "source": [
    "a=[1,2,[3,[1,2,3]]]\n",
    "\n",
    "# 第一种:创建一个对a的新引用\n",
    "b=a            \n",
    "print(b is a)\n",
    "b[1]=-100\n",
    "print(a)\n",
    "\n",
    "# 第二种：浅复制，创建一个新对象，但是只是第一层(也就是a)的复制，第二层之后的对象是不复制的，就是所谓的浅复制\n",
    "c=list(a)\n",
    "print(c is a)\n",
    "c.append(100)\n",
    "print(c)\n",
    "print(a)\n",
    "c[2][0]=-100\n",
    "c[1]=3\n",
    "print(a)\n",
    "\n",
    "# 第三种：另外一种浅复制\n",
    "d=a.copy()\n",
    "print(d is a)\n",
    "print(d)\n",
    "print(a)\n",
    "d[2][0]=300\n",
    "d[1]=5\n",
    "print(a)\n",
    "\n",
    "# 第四种：深复制，将创建一个新对象，并且递归的复制了它包含的所有对象\n",
    "import copy\n",
    "e=copy.deepcopy(a)\n",
    "print(e is a)\n",
    "e[2][0]=200\n",
    "print(a)"
   ]
  },
  {
   "cell_type": "markdown",
   "metadata": {},
   "source": [
    "其中b是对a的赋值引用，可以看到b的变化实际上就是对a的变化，因为它们完全指向同一个地方。\n",
    "而c和d都是所谓的浅复制，反应在图上，c和d复制了a，但是并没有递归复制之后的对象，而e是深复制，完全递归复制了所有的对象。\n",
    "![](image.png)"
   ]
  },
  {
   "cell_type": "markdown",
   "metadata": {
    "ExecuteTime": {
     "end_time": "2018-05-24T03:14:27.151765Z",
     "start_time": "2018-05-24T03:14:27.142283Z"
    }
   },
   "source": [
    "接下来看下不可变对象的引用和复制中含有可变对象的情况："
   ]
  },
  {
   "cell_type": "code",
   "execution_count": 3,
   "metadata": {
    "ExecuteTime": {
     "end_time": "2018-05-24T03:29:14.575349Z",
     "start_time": "2018-05-24T03:29:14.567258Z"
    }
   },
   "outputs": [
    {
     "name": "stdout",
     "output_type": "stream",
     "text": [
      "True\n",
      "False\n",
      "(1, 2, [1, 2, [1, 2, 3]])\n"
     ]
    }
   ],
   "source": [
    "a=(1,2,[1,2,[1,2,3]])\n",
    "b=a\n",
    "print(b is a)\n",
    "\n",
    "e=copy.deepcopy(a)\n",
    "print(e is a)\n",
    "e[2][0]=200\n",
    "print(a)"
   ]
  },
  {
   "cell_type": "markdown",
   "metadata": {},
   "source": [
    "不可变的对象里含有可变对象，可变对象是可以修改的，但深复制是不会修改到原始对象的。\n",
    "![](image2.png)"
   ]
  }
 ],
 "metadata": {
  "kernelspec": {
   "display_name": "Python 3",
   "language": "python",
   "name": "python3"
  },
  "language_info": {
   "codemirror_mode": {
    "name": "ipython",
    "version": 3
   },
   "file_extension": ".py",
   "mimetype": "text/x-python",
   "name": "python",
   "nbconvert_exporter": "python",
   "pygments_lexer": "ipython3",
   "version": "3.6.2"
  }
 },
 "nbformat": 4,
 "nbformat_minor": 2
}
